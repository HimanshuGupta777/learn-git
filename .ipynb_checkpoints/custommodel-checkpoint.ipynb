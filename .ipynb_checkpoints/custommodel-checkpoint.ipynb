{
 "cells": [
  {
   "cell_type": "code",
   "execution_count": 10,
   "id": "8ca39057",
   "metadata": {},
   "outputs": [],
   "source": [
    "import pandas as pd\n",
    "import json,os\n",
    "from io import StringIO\n",
    "from scripts.uploadFile import UploadFile\n",
    "from scripts.getProjectDetailsForUser import GetProjectDetailsForUser\n",
    "from scripts.getModelDetailsForUser import GetModelDetailsForUser\n",
    "\n",
    "\n",
    "from scripts.trainModel import trainModel_classification\n",
    "from scripts.predictData import predictModelData\n",
    "from scripts.reportEDA import GetReportDetails"
   ]
  },
  {
   "cell_type": "code",
   "execution_count": 12,
   "id": "61e5675b",
   "metadata": {},
   "outputs": [],
   "source": [
    "import pycaret"
   ]
  },
  {
   "cell_type": "code",
   "execution_count": 2,
   "id": "2b0fdb14",
   "metadata": {},
   "outputs": [],
   "source": [
    "# define variables\n",
    "userName='dinesh'\n",
    "\n",
    "modeljson={\n",
    "    \"modelName\": \"3122021\",\n",
    "    \"model\": \"None\",\n",
    "    \"sort_model\": \"F1\",\n",
    "    \"target\": \"Heart-Att\",\n",
    "    \"train_size\": \"0.70\",\n",
    "    \"categorical_imputation\": \"constant\",\n",
    "    \"numeric_imputation\": \"mean\",\n",
    "    \"normalize_method\": \"zscore\",\n",
    "    \"outliers_threshold\": \"None\",\n",
    "    \"multicollinearity_threshold\": \"None\"\n",
    "}\n",
    "\n",
    "\n",
    "thisProject= {'projectName': 'heart', 'createdOn': 20210321180903, 'datafileName': 'US_Heart_Patients.csv'}"
   ]
  },
  {
   "cell_type": "code",
   "execution_count": 3,
   "id": "a8fc85ee",
   "metadata": {},
   "outputs": [
    {
     "data": {
      "text/plain": [
       "('dinesh',\n",
       " 'heart',\n",
       " {'modelName': '3122021',\n",
       "  'model': 'None',\n",
       "  'sort_model': 'F1',\n",
       "  'target': 'Heart-Att',\n",
       "  'train_size': '0.70',\n",
       "  'categorical_imputation': 'constant',\n",
       "  'numeric_imputation': 'mean',\n",
       "  'normalize_method': 'zscore',\n",
       "  'outliers_threshold': 'None',\n",
       "  'multicollinearity_threshold': 'None'},\n",
       " 'US_Heart_Patients.csv')"
      ]
     },
     "execution_count": 3,
     "metadata": {},
     "output_type": "execute_result"
    }
   ],
   "source": [
    "userName, thisProject[\"projectName\"],modeljson,thisProject[\"datafileName\"]"
   ]
  },
  {
   "cell_type": "code",
   "execution_count": 4,
   "id": "8ff1953e",
   "metadata": {},
   "outputs": [
    {
     "name": "stdout",
     "output_type": "stream",
     "text": [
      "inside trainModel_classification init\n",
      "type after json <class 'dict'>\n",
      "{'modelName': '3122021', 'model': 'None', 'sort_model': 'F1', 'target': 'Heart-Att', 'train_size': '0.70', 'categorical_imputation': 'constant', 'numeric_imputation': 'mean', 'normalize_method': 'zscore', 'outliers_threshold': 'None', 'multicollinearity_threshold': 'None'}\n",
      "inside init\n",
      "inside getProjectDataFile\n",
      "After reading from another function\n",
      "['Gender', 'age', 'education', 'currentSmoker', 'cigsPerDay', 'BP Meds', 'prevalentStroke', 'prevalentHyp', 'diabetes', 'tot cholesterol', 'Systolic BP', 'Diastolic BP', 'BMI', 'heartRate', 'glucose', 'Heart-Att']\n",
      "target_column:  Heart-Att\n",
      "target_column:  Heart-Att\n",
      "training_size: 0.70\n"
     ]
    }
   ],
   "source": [
    "#trigger this trainModel_classification\n",
    "trainModelDetails = trainModel_classification(userName, thisProject[\"projectName\"],json.dumps(modeljson),thisProject[\"datafileName\"])\n"
   ]
  },
  {
   "cell_type": "code",
   "execution_count": 14,
   "id": "fad299e3",
   "metadata": {},
   "outputs": [
    {
     "ename": "AttributeError",
     "evalue": "'trainModel_classification' object has no attribute 'save'",
     "output_type": "error",
     "traceback": [
      "\u001b[1;31m---------------------------------------------------------------------------\u001b[0m",
      "\u001b[1;31mAttributeError\u001b[0m                            Traceback (most recent call last)",
      "\u001b[1;32m<ipython-input-14-d24bd4ed347d>\u001b[0m in \u001b[0;36m<module>\u001b[1;34m\u001b[0m\n\u001b[1;32m----> 1\u001b[1;33m \u001b[0mtrainModelDetails\u001b[0m\u001b[1;33m.\u001b[0m\u001b[0msave\u001b[0m\u001b[1;33m(\u001b[0m\u001b[1;33m)\u001b[0m\u001b[1;33m\u001b[0m\u001b[1;33m\u001b[0m\u001b[0m\n\u001b[0m",
      "\u001b[1;31mAttributeError\u001b[0m: 'trainModel_classification' object has no attribute 'save'"
     ]
    }
   ],
   "source": [
    "trainModelDetails.save()"
   ]
  },
  {
   "cell_type": "code",
   "execution_count": null,
   "id": "d6dada0f",
   "metadata": {},
   "outputs": [],
   "source": []
  },
  {
   "cell_type": "code",
   "execution_count": null,
   "id": "fa5b36d2",
   "metadata": {},
   "outputs": [],
   "source": []
  },
  {
   "cell_type": "code",
   "execution_count": null,
   "id": "ce2dbc2e",
   "metadata": {},
   "outputs": [],
   "source": []
  }
 ],
 "metadata": {
  "kernelspec": {
   "display_name": "Python 3",
   "language": "python",
   "name": "python3"
  },
  "language_info": {
   "codemirror_mode": {
    "name": "ipython",
    "version": 3
   },
   "file_extension": ".py",
   "mimetype": "text/x-python",
   "name": "python",
   "nbconvert_exporter": "python",
   "pygments_lexer": "ipython3",
   "version": "3.6.13"
  }
 },
 "nbformat": 4,
 "nbformat_minor": 5
}
